{
 "cells": [
  {
   "cell_type": "code",
   "execution_count": 1,
   "id": "73074df4-4994-4814-aac2-c15e32cbd924",
   "metadata": {},
   "outputs": [],
   "source": [
    "import random"
   ]
  },
  {
   "cell_type": "code",
   "execution_count": 7,
   "id": "b7abcf32-bca5-49a0-bf14-260ba98b8f00",
   "metadata": {},
   "outputs": [
    {
     "name": "stdin",
     "output_type": "stream",
     "text": [
      "Type a number 6\n"
     ]
    },
    {
     "name": "stdout",
     "output_type": "stream",
     "text": [
      "0\n"
     ]
    },
    {
     "name": "stdin",
     "output_type": "stream",
     "text": [
      "Make a guess:  7\n"
     ]
    },
    {
     "name": "stdout",
     "output_type": "stream",
     "text": [
      "You were above the number!\n"
     ]
    },
    {
     "name": "stdin",
     "output_type": "stream",
     "text": [
      "Make a guess:  7\n"
     ]
    },
    {
     "name": "stdout",
     "output_type": "stream",
     "text": [
      "You were above the number!\n"
     ]
    },
    {
     "name": "stdin",
     "output_type": "stream",
     "text": [
      "Make a guess:  0\n"
     ]
    },
    {
     "name": "stdout",
     "output_type": "stream",
     "text": [
      "You got it!\n",
      "You got it in 3 guesses\n"
     ]
    }
   ],
   "source": [
    "top_of_range=input(\"Type a number\")\n",
    "if top_of_range.isdigit():\n",
    "    top_of_range=int(top_of_range)\n",
    "    if top_of_range <=0:\n",
    "        print(\"Please type a number larger than 0 next time\")\n",
    "        quit()\n",
    "else:\n",
    "    print(\"Please type a number next time.\")\n",
    "    quit()\n",
    "\n",
    "random_number=random.randint(0,top_of_range)\n",
    "print(random_number)\n",
    "\n",
    "\n",
    "\n",
    "guesses=0\n",
    "while True:\n",
    "    guesses+=1\n",
    "    user_guess=input(\"Make a guess: \")\n",
    "    if user_guess.isdigit():\n",
    "        user_guess=int(user_guess)\n",
    "    if user_guess==random_number:\n",
    "        print(\"You got it!\")\n",
    "        break\n",
    "    elif user_guess > random_number:\n",
    "        print(\"You were above the number!\")\n",
    "    else:\n",
    "        print(\"You were below the number!\")\n",
    "    \n",
    "print(\"You got it in\", guesses, \"guesses\")"
   ]
  },
  {
   "cell_type": "code",
   "execution_count": null,
   "id": "a47f3b01-b395-4b29-abcf-65dcd5e81298",
   "metadata": {},
   "outputs": [],
   "source": []
  }
 ],
 "metadata": {
  "kernelspec": {
   "display_name": "Python 3 (ipykernel)",
   "language": "python",
   "name": "python3"
  },
  "language_info": {
   "codemirror_mode": {
    "name": "ipython",
    "version": 3
   },
   "file_extension": ".py",
   "mimetype": "text/x-python",
   "name": "python",
   "nbconvert_exporter": "python",
   "pygments_lexer": "ipython3",
   "version": "3.12.4"
  }
 },
 "nbformat": 4,
 "nbformat_minor": 5
}
